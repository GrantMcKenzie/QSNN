{
 "cells": [
  {
   "cell_type": "code",
   "execution_count": 6,
   "id": "f148aa1c-9023-4e05-a0b5-4beb493da3ad",
   "metadata": {},
   "outputs": [
    {
     "name": "stdout",
     "output_type": "stream",
     "text": [
      "First tensor: torch.Size([320, 64])\n",
      "Unique labels: [0]\n"
     ]
    },
    {
     "name": "stderr",
     "output_type": "stream",
     "text": [
      "/var/folders/z4/3hnb86v562b2dpw2vfjywdtm0000gn/T/ipykernel_20397/2704713382.py:8: FutureWarning: You are using `torch.load` with `weights_only=False` (the current default value), which uses the default pickle module implicitly. It is possible to construct malicious pickle data which will execute arbitrary code during unpickling (See https://github.com/pytorch/pytorch/blob/main/SECURITY.md#untrusted-models for more details). In a future release, the default value for `weights_only` will be flipped to `True`. This limits the functions that could be executed during unpickling. Arbitrary objects will no longer be allowed to be loaded via this mode unless they are explicitly allowlisted by the user via `torch.serialization.add_safe_globals`. We recommend you start setting `weights_only=True` for any use case where you don't have full control of the loaded file. Please open an issue on GitHub for any issues related to this experimental feature.\n",
      "  d            = torch.load(DAT_FILE)\n"
     ]
    }
   ],
   "source": [
    "from pathlib import Path\n",
    "import torch, numpy as np, matplotlib.pyplot as plt\n",
    "\n",
    "DATA     = Path.cwd() / \"data\"            # same folder as notebook\n",
    "DAT_FILE = DATA / \"spikes_run4.pt\"        # made in 02_preprocess.ipynb\n",
    "assert DAT_FILE.exists(), f\"{DAT_FILE} missing – run preprocessing first\"\n",
    "\n",
    "d            = torch.load(DAT_FILE)\n",
    "spike_tensors, labels = d[\"spikes\"], d[\"labels\"]\n",
    "\n",
    "print(\"First tensor:\", spike_tensors[0].shape)      # (320, 64)\n",
    "print(\"Unique labels:\", np.unique(labels))"
   ]
  },
  {
   "cell_type": "code",
   "execution_count": 7,
   "id": "1447b705-ff3f-4059-b566-d781da16dc0e",
   "metadata": {},
   "outputs": [
    {
     "name": "stdout",
     "output_type": "stream",
     "text": [
      "Batch xb: torch.Size([320, 4, 64])  yb: torch.Size([4])\n"
     ]
    }
   ],
   "source": [
    "from torch.utils.data import Dataset, DataLoader\n",
    "\n",
    "class SpikeDS(Dataset):\n",
    "    def __init__(self, xs, ys):\n",
    "        self.x = xs\n",
    "        self.y = torch.tensor(ys, dtype=torch.long)\n",
    "    def __len__(self):       return len(self.x)\n",
    "    def __getitem__(self, i): return self.x[i], self.y[i]\n",
    "\n",
    "def collate(batch):\n",
    "    xs, ys = zip(*batch)           # xs tuple of [T,C]\n",
    "    xs = torch.stack(xs, 0)        # [B, T, C]\n",
    "    xs = xs.permute(1, 0, 2)       # [T, B, C]  (time-major)\n",
    "    ys = torch.tensor(ys)\n",
    "    return xs.float(), ys\n",
    "\n",
    "dl = DataLoader(SpikeDS(spike_tensors, labels),\n",
    "                batch_size=4, shuffle=True, collate_fn=collate)\n",
    "\n",
    "xb, yb = next(iter(dl))\n",
    "print(\"Batch xb:\", xb.shape, \" yb:\", yb.shape)       # expect [320,4,64]  [4]\n",
    "assert xb.shape[2] != 0, \"Channel dimension collapsed!\""
   ]
  },
  {
   "cell_type": "code",
   "execution_count": 8,
   "id": "52332bc1-feb3-420f-8096-e2663532096d",
   "metadata": {},
   "outputs": [
    {
     "name": "stdout",
     "output_type": "stream",
     "text": [
      "Probe OK — logits shape: torch.Size([4, 1])\n"
     ]
    }
   ],
   "source": [
    "import torch.nn as nn, snntorch as snn\n",
    "from snntorch import surrogate\n",
    "\n",
    "C       = xb.shape[2]        # 64\n",
    "HIDDEN  = 128\n",
    "N_CLASS = len(np.unique(labels)) or 2\n",
    "\n",
    "class FC_SNN(nn.Module):\n",
    "    def __init__(self):\n",
    "        super().__init__()\n",
    "        self.fc1  = nn.Linear(C, HIDDEN)\n",
    "        self.lif1 = snn.Leaky(beta=0.9, spike_grad=surrogate.fast_sigmoid())\n",
    "        self.fc2  = nn.Linear(HIDDEN, N_CLASS)\n",
    "        self.lif2 = snn.Leaky(beta=0.9, spike_grad=surrogate.fast_sigmoid())\n",
    "\n",
    "    def forward(self, x):                 # x [T, B, C]\n",
    "        B = x.size(1)\n",
    "        mem1 = torch.zeros(B, HIDDEN, device=x.device)\n",
    "        mem2 = torch.zeros(B, N_CLASS, device=x.device)\n",
    "        out  = 0\n",
    "        for step in x:                    # step [B, C]\n",
    "            mem1, spk1 = self.lif1(mem1, self.fc1(step))\n",
    "            mem2, spk2 = self.lif2(mem2, self.fc2(spk1))\n",
    "            out += spk2\n",
    "        return out / x.size(0)            # logits [B, N_CLASS]\n",
    "\n",
    "net = FC_SNN()\n",
    "\n",
    "# ── one-step probe ─────────────────────────────────────────────────────\n",
    "with torch.no_grad():\n",
    "    probe = net(xb)                       # should run with no error\n",
    "print(\"Probe OK — logits shape:\", probe.shape)   # e.g. (4, 2)"
   ]
  },
  {
   "cell_type": "code",
   "execution_count": 9,
   "id": "bf472441-2441-43b5-9b2b-8cfcaa4d2fb4",
   "metadata": {},
   "outputs": [
    {
     "name": "stdout",
     "output_type": "stream",
     "text": [
      "epoch 1: loss 0.0000  acc 100.00%\n",
      "epoch 2: loss 0.0000  acc 100.00%\n",
      "epoch 3: loss 0.0000  acc 100.00%\n",
      "epoch 4: loss 0.0000  acc 100.00%\n",
      "epoch 5: loss 0.0000  acc 100.00%\n"
     ]
    }
   ],
   "source": [
    "optimizer = torch.optim.Adam(net.parameters(), lr=1e-3)\n",
    "criterion  = nn.CrossEntropyLoss()\n",
    "EPOCHS = 5\n",
    "for ep in range(EPOCHS):\n",
    "    total = correct = loss_sum = 0\n",
    "    for xb, yb in dl:\n",
    "        optimizer.zero_grad()\n",
    "        logits = net(xb)\n",
    "        loss   = criterion(logits, yb)\n",
    "        loss.backward(); optimizer.step()\n",
    "        loss_sum += loss.item()*yb.size(0)\n",
    "        correct  += (logits.argmax(1) == yb).sum().item()\n",
    "        total    += yb.size(0)\n",
    "    print(f\"epoch {ep+1}: loss {loss_sum/total:.4f}  acc {correct/total:.2%}\")"
   ]
  },
  {
   "cell_type": "code",
   "execution_count": 11,
   "id": "654cd3aa-d88f-424c-90e4-4f94e0ef8f13",
   "metadata": {},
   "outputs": [
    {
     "name": "stdout",
     "output_type": "stream",
     "text": [
      "Model saved to /Users/grantmckenzie/experiments/snn_run01.pt\n"
     ]
    }
   ],
   "source": [
    "# save inside current project dir\n",
    "EXP_DIR = Path.cwd() / \"experiments\"      # not parent/\n",
    "EXP_DIR.mkdir(parents=True, exist_ok=True)\n",
    "\n",
    "ckpt_file = EXP_DIR / \"snn_run01.pt\"\n",
    "torch.save(net.state_dict(), ckpt_file)\n",
    "print(\"Model saved to\", ckpt_file)"
   ]
  },
  {
   "cell_type": "code",
   "execution_count": null,
   "id": "f50af798-4468-45d1-bcea-a417ee0e5c47",
   "metadata": {},
   "outputs": [],
   "source": []
  }
 ],
 "metadata": {
  "kernelspec": {
   "display_name": "Python 3 (ipykernel)",
   "language": "python",
   "name": "python3"
  },
  "language_info": {
   "codemirror_mode": {
    "name": "ipython",
    "version": 3
   },
   "file_extension": ".py",
   "mimetype": "text/x-python",
   "name": "python",
   "nbconvert_exporter": "python",
   "pygments_lexer": "ipython3",
   "version": "3.11.5"
  }
 },
 "nbformat": 4,
 "nbformat_minor": 5
}
