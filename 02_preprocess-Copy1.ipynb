{
 "cells": [
  {
   "cell_type": "code",
   "execution_count": 8,
   "id": "5c38086f-6c59-4892-8048-421feb12a4c8",
   "metadata": {},
   "outputs": [
    {
     "name": "stdout",
     "output_type": "stream",
     "text": [
      "Found file: /Users/grantmckenzie/data/raw_20s.fif\n"
     ]
    }
   ],
   "source": [
    "# 02_preprocess.ipynb  – Cell 1  (corrected)\n",
    "from pathlib import Path\n",
    "import numpy as np, torch, mne\n",
    "\n",
    "DATA = Path.cwd() / \"data\"          # <─ remove .parent\n",
    "RAW_FILE = DATA / \"raw_20s.fif\"     # or \"raw_20s_raw.fif\" if you renamed\n",
    "\n",
    "assert RAW_FILE.exists(), f\"Run 01_load_data first – {RAW_FILE} missing\"\n",
    "print(\"Found file:\", RAW_FILE)"
   ]
  },
  {
   "cell_type": "code",
   "execution_count": 9,
   "id": "c99be89e-00a1-4273-bcd0-0e36f526960a",
   "metadata": {
    "scrolled": true
   },
   "outputs": [
    {
     "name": "stdout",
     "output_type": "stream",
     "text": [
      "<Raw | raw_20s.fif, 64 x 3201 (20.0 s), ~1.6 MiB, data loaded>\n"
     ]
    },
    {
     "name": "stderr",
     "output_type": "stream",
     "text": [
      "/var/folders/z4/3hnb86v562b2dpw2vfjywdtm0000gn/T/ipykernel_20307/245592129.py:2: RuntimeWarning: This filename (/Users/grantmckenzie/data/raw_20s.fif) does not conform to MNE naming conventions. All raw files should end with raw.fif, raw_sss.fif, raw_tsss.fif, _meg.fif, _eeg.fif, _ieeg.fif, raw.fif.gz, raw_sss.fif.gz, raw_tsss.fif.gz, _meg.fif.gz, _eeg.fif.gz or _ieeg.fif.gz\n",
      "  raw = mne.io.read_raw_fif(RAW_FILE, preload=True, verbose=False)\n"
     ]
    }
   ],
   "source": [
    "# 02_preprocess.ipynb – Cell 2\n",
    "raw = mne.io.read_raw_fif(RAW_FILE, preload=True, verbose=False)\n",
    "print(raw)"
   ]
  },
  {
   "cell_type": "code",
   "execution_count": 10,
   "id": "a38e9e81-ac26-44dc-821c-3f83f5f62b17",
   "metadata": {},
   "outputs": [
    {
     "name": "stdout",
     "output_type": "stream",
     "text": [
      "EEG channel type selected for re-referencing\n",
      "Adding average EEG reference projection.\n",
      "1 projection items deactivated\n",
      "Average reference projection was added, but has not been applied yet. Use the apply_proj method to apply it.\n",
      "After filtering: <Raw | raw_20s.fif, 64 x 3201 (20.0 s), ~1.6 MiB, data loaded>\n"
     ]
    }
   ],
   "source": [
    "# 02_preprocess.ipynb – Cell 3\n",
    "raw.set_eeg_reference(\"average\", projection=True)      # common average ref\n",
    "raw.notch_filter(60, verbose=False)                    # remove US power line\n",
    "raw.filter(8, 30, fir_design=\"firwin\", verbose=False)  # µ/β band (motor)\n",
    "print(\"After filtering:\", raw)"
   ]
  },
  {
   "cell_type": "code",
   "execution_count": 11,
   "id": "015195cb-c3f7-43e1-bd0b-cc53cefa0b63",
   "metadata": {},
   "outputs": [
    {
     "name": "stdout",
     "output_type": "stream",
     "text": [
      "Epochs: 10 shape (10, 64, 320)\n"
     ]
    }
   ],
   "source": [
    "# 02_preprocess.ipynb – Cell 4\n",
    "EPOCH_LEN = 2.0        # seconds\n",
    "epochs = mne.make_fixed_length_epochs(raw, duration=EPOCH_LEN,\n",
    "                                      preload=True, verbose=False)\n",
    "print(\"Epochs:\", len(epochs), \"shape\", epochs.get_data().shape)"
   ]
  },
  {
   "cell_type": "code",
   "execution_count": 12,
   "id": "0e0a16f0-2533-4f4d-ac64-dde40a66c57a",
   "metadata": {},
   "outputs": [
    {
     "name": "stdout",
     "output_type": "stream",
     "text": [
      "Spike tensor shape = torch.Size([320, 64]) sparsity = 0.21650390326976776\n"
     ]
    }
   ],
   "source": [
    "# 02_preprocess.ipynb – Cell 5\n",
    "def spike_encode(epoch_arr: np.ndarray, thresh: float = 0.8):\n",
    "    \"\"\"\n",
    "    Z-score each channel, threshold to spikes.\n",
    "    epoch_arr: (n_ch, n_samples)  ->  return torch [T, C] binary\n",
    "    \"\"\"\n",
    "    z = (epoch_arr - epoch_arr.mean(axis=1, keepdims=True)) / \\\n",
    "        epoch_arr.std(axis=1, keepdims=True)\n",
    "    spk = (z > thresh).astype(np.float32)\n",
    "    return torch.from_numpy(spk).T        # [T, C]\n",
    "\n",
    "# quick sanity check with first epoch\n",
    "test_tensor = spike_encode(epochs.get_data()[0])\n",
    "print(\"Spike tensor shape =\", test_tensor.shape,\n",
    "      \"sparsity =\", test_tensor.mean().item())"
   ]
  },
  {
   "cell_type": "code",
   "execution_count": 13,
   "id": "4669e2e2-210f-4582-99cd-48527124c304",
   "metadata": {},
   "outputs": [
    {
     "name": "stdout",
     "output_type": "stream",
     "text": [
      "Encoded 10 epochs → tensor list of shape torch.Size([320, 64])\n"
     ]
    }
   ],
   "source": [
    "# 02_preprocess.ipynb – Cell 6\n",
    "spike_tensors = [spike_encode(e) for e in epochs.get_data()]\n",
    "\n",
    "# Dummy labels (0) – replace with real event IDs later\n",
    "labels = np.zeros(len(spike_tensors), dtype=np.int64)\n",
    "\n",
    "print(f\"Encoded {len(spike_tensors)} epochs →\"\n",
    "      f\" tensor list of shape {[t.shape for t in spike_tensors[:1]][0]}\")"
   ]
  },
  {
   "cell_type": "code",
   "execution_count": 14,
   "id": "04537148-7b79-4776-80fb-0a1e5495ed56",
   "metadata": {},
   "outputs": [
    {
     "name": "stdout",
     "output_type": "stream",
     "text": [
      "Saved spike dataset → /Users/grantmckenzie/data/spikes_run4.pt\n"
     ]
    }
   ],
   "source": [
    "# 02_preprocess.ipynb – Cell 7\n",
    "OUT = DATA / \"spikes_run4.pt\"\n",
    "torch.save({\"spikes\": spike_tensors,\n",
    "            \"labels\": labels.tolist(),\n",
    "            \"fs\": raw.info[\"sfreq\"],\n",
    "            \"epoch_len_s\": EPOCH_LEN},\n",
    "           OUT)\n",
    "print(\"Saved spike dataset →\", OUT)"
   ]
  },
  {
   "cell_type": "code",
   "execution_count": null,
   "id": "9a6e897e-1201-4ba1-9386-7ae63d4b6565",
   "metadata": {},
   "outputs": [],
   "source": []
  },
  {
   "cell_type": "code",
   "execution_count": null,
   "id": "d20f19cc-547d-4b2c-819a-bde506651599",
   "metadata": {},
   "outputs": [],
   "source": []
  }
 ],
 "metadata": {
  "kernelspec": {
   "display_name": "Python 3 (ipykernel)",
   "language": "python",
   "name": "python3"
  },
  "language_info": {
   "codemirror_mode": {
    "name": "ipython",
    "version": 3
   },
   "file_extension": ".py",
   "mimetype": "text/x-python",
   "name": "python",
   "nbconvert_exporter": "python",
   "pygments_lexer": "ipython3",
   "version": "3.11.5"
  }
 },
 "nbformat": 4,
 "nbformat_minor": 5
}
